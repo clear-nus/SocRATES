{
 "cells": [
  {
   "cell_type": "code",
   "execution_count": 1,
   "metadata": {},
   "outputs": [],
   "source": [
    "import os\n",
    "import json\n",
    "import pprint\n",
    "import re\n",
    "from PIL import Image as PILImage\n",
    "from Prompts import *\n",
    "import pickle as pkl\n",
    "import yaml\n",
    "from utils.config import *\n",
    "from utils.models import *\n",
    "import copy\n",
    "import subprocess"
   ]
  },
  {
   "cell_type": "code",
   "execution_count": 2,
   "metadata": {},
   "outputs": [],
   "source": [
    "model = GPTModel(config = dict(\n",
    "    MODEL_NAME = MODEL\n",
    "))"
   ]
  },
  {
   "cell_type": "code",
   "execution_count": 3,
   "metadata": {},
   "outputs": [],
   "source": [
    "model.clear_assistant_files()"
   ]
  },
  {
   "cell_type": "code",
   "execution_count": 22,
   "metadata": {},
   "outputs": [],
   "source": [
    "scenario_desc = \"The delivery bot needs to transport a box through a narrow passageway in the warehouse. As it navigates the passageway, it encounters a warehouse employee who signals the robot to 'WAIT'.\"\n",
    "num_humans = 1"
   ]
  },
  {
   "cell_type": "code",
   "execution_count": 23,
   "metadata": {},
   "outputs": [
    {
     "name": "stdout",
     "output_type": "stream",
     "text": [
      "['PASSAGEWAY', 'CORNER', 'INTERSECTION', 'OPEN AREA']\n"
     ]
    }
   ],
   "source": [
    "with open(os.path.join('locations',LOCATION,'scene_graph.json'),'r') as f:\n",
    "    scene_graph = json.load(f)\n",
    "scgraph = utils.SceneGraph(scene_graph)\n",
    "node_types = []\n",
    "for node in scgraph.get_parent_nodes():\n",
    "    if scgraph.graph.nodes[node]['type'] not in node_types:\n",
    "        node_types.append(scgraph.graph.nodes[node]['type'])\n",
    "print(node_types)"
   ]
  },
  {
   "cell_type": "code",
   "execution_count": 24,
   "metadata": {},
   "outputs": [],
   "source": [
    "flocationQ= FLocationQuery(\n",
    "    scene_graph_img = None\n",
    ")\n",
    "flq_full_text_prompt = flocationQ.get_full_prompt(\n",
    "    sc_desc = scenario_desc,\n",
    "    scene_graph_nodes = ','.join(node_types)+',child',\n",
    "    num_humans = num_humans,\n",
    ")"
   ]
  },
  {
   "cell_type": "code",
   "execution_count": 25,
   "metadata": {},
   "outputs": [
    {
     "name": "stdout",
     "output_type": "stream",
     "text": [
      "Loaded Json SG file\n",
      "Loaded Image SG file\n"
     ]
    }
   ],
   "source": [
    "### Use get files\n",
    "sg_json_file = model.get_files_by_name('scene_graph.json')\n",
    "sg_img_file = model.get_files_by_name('scene_graph.png')\n",
    "if sg_json_file!=None:\n",
    "    print(\"Loaded Json SG file\")\n",
    "else:\n",
    "    print(\"Creating JSON SG file\")\n",
    "    sg_json_file = model.create_file(os.path.join('locations',LOCATION,'scene_graph.json'), purpose = 'assistants')\n",
    "\n",
    "if sg_img_file!=None:\n",
    "    print(\"Loaded Image SG file\")\n",
    "else:\n",
    "    print(\"Creating Image SG file\")\n",
    "    sg_img_file = model.create_file(os.path.join('locations',LOCATION,'scene_graph.png'), purpose = 'vision')\n"
   ]
  },
  {
   "cell_type": "code",
   "execution_count": 26,
   "metadata": {},
   "outputs": [],
   "source": [
    "location_content = [\n",
    "            {\n",
    "             \"type\":\"text\",\n",
    "             \"text\":flq_full_text_prompt\n",
    "            },\n",
    "            {\n",
    "                \"type\":\"image_file\",\n",
    "                \"image_file\":{\n",
    "                    \"file_id\":sg_img_file.id,\n",
    "                    \"detail\":\"high\"\n",
    "                }\n",
    "            },\n",
    "        ]\n",
    "location_attachments = [\n",
    "             {\"file_id\":sg_json_file.id,\"tools\":[{\"type\":\"file_search\"}]}\n",
    "        ]"
   ]
  },
  {
   "cell_type": "code",
   "execution_count": 27,
   "metadata": {},
   "outputs": [
    {
     "name": "stdout",
     "output_type": "stream",
     "text": [
      "Loaded Assistant\n"
     ]
    }
   ],
   "source": [
    "# get assistant\n",
    "location_assistant = model.get_assistant_by_name('location_scenario_assistant')\n",
    "if location_assistant == None:\n",
    "    print(\"Creating New Assistant\")\n",
    "    #create assistant\n",
    "    location_assistant = model.client.beta.assistants.create(\n",
    "        instructions=\"You are an expert floor planner and a software engineer. When asked a question, always return an answer that is fully parseable with python json.loads\",\n",
    "        name=\"location_scenario_assistant\",\n",
    "        tools=[{\"type\": \"file_search\"}],\n",
    "        model=model.model_name,\n",
    "    )\n",
    "else:\n",
    "    print(\"Loaded Assistant\")"
   ]
  },
  {
   "cell_type": "code",
   "execution_count": 28,
   "metadata": {},
   "outputs": [],
   "source": [
    "thread_id, run_id = model.create_and_run_thread(\n",
    "    content = location_content,\n",
    "    attachments = location_attachments,\n",
    "    assistant_id = location_assistant.id\n",
    ")"
   ]
  },
  {
   "cell_type": "code",
   "execution_count": 29,
   "metadata": {},
   "outputs": [
    {
     "name": "stdout",
     "output_type": "stream",
     "text": [
      "Run in_progress\n",
      "Run in_progress\n",
      "Run in_progress\n",
      "Run in_progress\n",
      "Run in_progress\n",
      "Run in_progress\n",
      "Run in_progress\n",
      "Run in_progress\n",
      "Run in_progress\n",
      "Run in_progress\n",
      "Run in_progress\n",
      "Run in_progress\n",
      "Run in_progress\n",
      "Run in_progress\n",
      "Run in_progress\n",
      "Run in_progress\n",
      "Run in_progress\n",
      "Run completed!\n",
      "```json\n",
      "{\n",
      "    \"TRAJECTORIES\": {   \n",
      "        \"Robot\": [22, 21, 23, 24],\n",
      "        \"Human 1\": [21, 22]\n",
      "    },\n",
      "    \"Group IDs\": {\n",
      "        \"Human 1\": -1\n",
      "    },\n",
      "    \"REASONING\": \"The robot starts at node 22, which is at the entrance of the passageway. It moves through the passageway nodes 21 and 23, experiencing a delay at node 23 due to crossing paths with Human 1. Human 1 starts at node 21, signaling 'WAIT' to the robot at node 22 before proceeding to node 22. This setup creates the required scenario.\"\n",
      "}\n",
      "```\n",
      "completed\n"
     ]
    }
   ],
   "source": [
    "response = model.poll_run_result(thread_id,run_id)"
   ]
  },
  {
   "cell_type": "code",
   "execution_count": null,
   "metadata": {},
   "outputs": [],
   "source": []
  }
 ],
 "metadata": {
  "kernelspec": {
   "display_name": "pytorch3d",
   "language": "python",
   "name": "python3"
  },
  "language_info": {
   "codemirror_mode": {
    "name": "ipython",
    "version": 3
   },
   "file_extension": ".py",
   "mimetype": "text/x-python",
   "name": "python",
   "nbconvert_exporter": "python",
   "pygments_lexer": "ipython3",
   "version": "3.9.17"
  }
 },
 "nbformat": 4,
 "nbformat_minor": 2
}
