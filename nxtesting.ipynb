{
 "cells": [
  {
   "cell_type": "code",
   "execution_count": 1,
   "metadata": {},
   "outputs": [],
   "source": [
    "import os\n",
    "import json\n",
    "import pprint\n",
    "import re\n",
    "from PIL import Image as PILImage\n",
    "from Prompts import *\n",
    "import pickle as pkl\n",
    "import yaml\n",
    "from utils.config import *\n",
    "from utils.models import *\n",
    "import copy\n",
    "import subprocess\n",
    "import networkx as nx\n",
    "import numpy as np"
   ]
  },
  {
   "cell_type": "code",
   "execution_count": 3,
   "metadata": {},
   "outputs": [],
   "source": [
    "def find_closest_connected_node(g, node_id, node_type):\n",
    "    # Check if the node_id exists in the graph\n",
    "    if node_id not in g:\n",
    "        return []\n",
    "\n",
    "    start_pos = g.nodes[node_id]['pos']\n",
    "    # Get all neighbors of the given node\n",
    "    neighbors = g.neighbors(node_id)\n",
    "\n",
    "    # Filter neighbors by the specified node_type\n",
    "    closest_nodes = [n for n in neighbors if g.nodes[n].get('type') == node_type]\n",
    "\n",
    "    distances = []\n",
    "    for n in closest_nodes:\n",
    "        if g.nodes[n]['type'] == node_type:\n",
    "            other_pos = g.nodes[n]['pos']\n",
    "            dist = np.linalg.norm(np.array(start_pos) - np.array(other_pos))\n",
    "            distances.append((dist, n))\n",
    "    distances = sorted(distances, key=lambda x: x[0])\n",
    "    closest_nodes = [node_id for dist, node_id in distances]\n",
    "    return closest_nodes"
   ]
  },
  {
   "cell_type": "code",
   "execution_count": 4,
   "metadata": {},
   "outputs": [],
   "source": [
    "def getPathLength(graph,node1,node2):\n",
    "    # return the shortest path using a* between the two nodes\n",
    "    cost = 0\n",
    "    try:\n",
    "        path =  nx.astar_path(graph,node1,node2, weight = \"cost\")\n",
    "        n1 = path[0]\n",
    "        if len(path) > 1:\n",
    "            for n in path[1:]:\n",
    "                cost += graph.edges[n1,n][\"cost\"]\n",
    "                n1 = n\n",
    "    except nx.NetworkXNoPath:\n",
    "        cost = -1\n",
    "    return cost\n",
    "    "
   ]
  },
  {
   "cell_type": "code",
   "execution_count": 5,
   "metadata": {},
   "outputs": [],
   "source": [
    "def add_edge_wts(graph):\n",
    "    def dist(g,n1,n2):\n",
    "        (x1,y1) = g.nodes[n1]['pos']\n",
    "        (x2,y2) = g.nodes[n2]['pos']\n",
    "        return ((x1-x2)**2+(y1-y2)**2)**0.5        \n",
    "    nx.set_edge_attributes(graph, {e: dist(graph,e[0],e[1]) for e in graph.edges()}, \"cost\")\n",
    "    return graph     "
   ]
  },
  {
   "cell_type": "code",
   "execution_count": 7,
   "metadata": {},
   "outputs": [],
   "source": [
    "with open(os.path.join('locations',LOCATION,'scene_graph.json'),'r') as f:\n",
    "    scene_graph = json.load(f)"
   ]
  },
  {
   "cell_type": "code",
   "execution_count": 8,
   "metadata": {},
   "outputs": [],
   "source": [
    "g = nx.node_link_graph(scene_graph)"
   ]
  },
  {
   "cell_type": "code",
   "execution_count": 9,
   "metadata": {},
   "outputs": [
    {
     "data": {
      "text/plain": [
       "['3']"
      ]
     },
     "execution_count": 9,
     "metadata": {},
     "output_type": "execute_result"
    }
   ],
   "source": [
    "find_closest_connected_node(g,'5','INTERSECTION')"
   ]
  },
  {
   "cell_type": "code",
   "execution_count": 13,
   "metadata": {},
   "outputs": [],
   "source": [
    "g = add_edge_wts(g)"
   ]
  },
  {
   "cell_type": "code",
   "execution_count": 23,
   "metadata": {},
   "outputs": [
    {
     "data": {
      "text/plain": [
       "'child'"
      ]
     },
     "execution_count": 23,
     "metadata": {},
     "output_type": "execute_result"
    }
   ],
   "source": [
    "g.nodes['1A']['type']"
   ]
  },
  {
   "cell_type": "code",
   "execution_count": 17,
   "metadata": {},
   "outputs": [
    {
     "data": {
      "text/plain": [
       "{'cost': 166.14752480852673}"
      ]
     },
     "execution_count": 17,
     "metadata": {},
     "output_type": "execute_result"
    }
   ],
   "source": [
    "g.edges[('1','2')]"
   ]
  },
  {
   "cell_type": "code",
   "execution_count": 11,
   "metadata": {},
   "outputs": [
    {
     "data": {
      "text/plain": [
       "['1A', '1B', '2']"
      ]
     },
     "execution_count": 11,
     "metadata": {},
     "output_type": "execute_result"
    }
   ],
   "source": [
    "list(g.neighbors('1'))"
   ]
  },
  {
   "cell_type": "code",
   "execution_count": 7,
   "metadata": {},
   "outputs": [
    {
     "data": {
      "text/plain": [
       "[('1', '1A'), ('1', '1B'), ('1', '2')]"
      ]
     },
     "execution_count": 7,
     "metadata": {},
     "output_type": "execute_result"
    }
   ],
   "source": [
    "list(g.edges(['1']))"
   ]
  },
  {
   "cell_type": "code",
   "execution_count": null,
   "metadata": {},
   "outputs": [],
   "source": [
    "g"
   ]
  }
 ],
 "metadata": {
  "kernelspec": {
   "display_name": "pytorch3d",
   "language": "python",
   "name": "python3"
  },
  "language_info": {
   "codemirror_mode": {
    "name": "ipython",
    "version": 3
   },
   "file_extension": ".py",
   "mimetype": "text/x-python",
   "name": "python",
   "nbconvert_exporter": "python",
   "pygments_lexer": "ipython3",
   "version": "3.9.17"
  }
 },
 "nbformat": 4,
 "nbformat_minor": 2
}
